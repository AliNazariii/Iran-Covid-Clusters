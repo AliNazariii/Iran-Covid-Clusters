{
 "cells": [
  {
   "cell_type": "code",
   "execution_count": 2,
   "metadata": {},
   "outputs": [],
   "source": [
    "import folium\n",
    "import pandas as pd"
   ]
  },
  {
   "cell_type": "code",
   "execution_count": 3,
   "metadata": {},
   "outputs": [
    {
     "data": {
      "text/html": [
       "<div>\n",
       "<style scoped>\n",
       "    .dataframe tbody tr th:only-of-type {\n",
       "        vertical-align: middle;\n",
       "    }\n",
       "\n",
       "    .dataframe tbody tr th {\n",
       "        vertical-align: top;\n",
       "    }\n",
       "\n",
       "    .dataframe thead th {\n",
       "        text-align: right;\n",
       "    }\n",
       "</style>\n",
       "<table border=\"1\" class=\"dataframe\">\n",
       "  <thead>\n",
       "    <tr style=\"text-align: right;\">\n",
       "      <th></th>\n",
       "      <th>39.37962</th>\n",
       "      <th>44.39011</th>\n",
       "    </tr>\n",
       "  </thead>\n",
       "  <tbody>\n",
       "    <tr>\n",
       "      <th>0</th>\n",
       "      <td>39.33063</td>\n",
       "      <td>44.14934</td>\n",
       "    </tr>\n",
       "    <tr>\n",
       "      <th>1</th>\n",
       "      <td>39.20938</td>\n",
       "      <td>44.76798</td>\n",
       "    </tr>\n",
       "    <tr>\n",
       "      <th>2</th>\n",
       "      <td>39.27789</td>\n",
       "      <td>44.54155</td>\n",
       "    </tr>\n",
       "    <tr>\n",
       "      <th>3</th>\n",
       "      <td>39.29137</td>\n",
       "      <td>44.46958</td>\n",
       "    </tr>\n",
       "    <tr>\n",
       "      <th>4</th>\n",
       "      <td>39.28080</td>\n",
       "      <td>44.46657</td>\n",
       "    </tr>\n",
       "  </tbody>\n",
       "</table>\n",
       "</div>"
      ],
      "text/plain": [
       "   39.37962  44.39011\n",
       "0  39.33063  44.14934\n",
       "1  39.20938  44.76798\n",
       "2  39.27789  44.54155\n",
       "3  39.29137  44.46958\n",
       "4  39.28080  44.46657"
      ]
     },
     "execution_count": 3,
     "metadata": {},
     "output_type": "execute_result"
    }
   ],
   "source": [
    "covid_df = pd.read_csv(\"./data/covid.csv\")\n",
    "covid_df.head()"
   ]
  },
  {
   "cell_type": "code",
   "execution_count": 47,
   "metadata": {
    "scrolled": false
   },
   "outputs": [],
   "source": [
    "# Iran covid cases on map\n",
    "m = folium.Map(location=[32.427910, 53.688046], zoom_start=5)\n",
    "for index, row in covid_df.iterrows():\n",
    "    folium.Circle(location=[row[0], row[1]], radius=1, color=\"red\", fill=True).add_to(m)\n",
    "# m"
   ]
  },
  {
   "cell_type": "code",
   "execution_count": 48,
   "metadata": {},
   "outputs": [],
   "source": [
    "colors = [\"red\", \"blue\", \"green\", \"purple\", \"orange\", \"darkred\", \"darkblue\", \"darkgreen\", \"cadetblue\", \"darkpurple\", \"pink\", \"lightblue\", \"lightgreen\", \"gray\", \"lightgray\"]"
   ]
  },
  {
   "cell_type": "code",
   "execution_count": 32,
   "metadata": {},
   "outputs": [],
   "source": [
    "from sklearn.cluster import DBSCAN\n",
    "\n",
    "def calc_DBSCAN(eps, min_samples):\n",
    "    clustering = DBSCAN(eps=eps, min_samples=min_samples).fit_predict(covid_df)\n",
    "    clusters = list(set(list(clustering.flatten())))\n",
    "    print(f\"Clusters: {clusters}\")\n",
    "    return pd.DataFrame({ 'X': covid_df.iloc[:, 0], 'Y': covid_df.iloc[:, 1], 'Cluster': clustering.flatten() })"
   ]
  },
  {
   "cell_type": "code",
   "execution_count": null,
   "metadata": {},
   "outputs": [],
   "source": [
    "dbscan = calc_DBSCAN(0.1, 250)\n",
    "for index, row in dbscan.iterrows():\n",
    "    color = \"\"\n",
    "    if row[2] != -1:\n",
    "        color = colors[int(row[2])]\n",
    "    else: \n",
    "        color = \"black\"\n",
    "    folium.Circle(location=[row[0], row[1]], radius=1, color=color, fill=True).add_to(m)\n",
    "# m"
   ]
  },
  {
   "cell_type": "code",
   "execution_count": 43,
   "metadata": {},
   "outputs": [],
   "source": [
    "from sklearn.cluster import KMeans\n",
    "\n",
    "def calc_KMeans(n_clusters):\n",
    "    clustering = KMeans(n_clusters=n_clusters, random_state=0).fit_predict(covid_df)\n",
    "    return pd.DataFrame({ 'X': covid_df.iloc[:, 0], 'Y': covid_df.iloc[:, 1], 'Cluster': clustering })"
   ]
  },
  {
   "cell_type": "code",
   "execution_count": 52,
   "metadata": {},
   "outputs": [],
   "source": [
    "k_means = calc_KMeans(12)\n",
    "for index, row in k_means.iterrows():\n",
    "    folium.Circle(location=[row[0], row[1]], radius=1, color=colors[int(row[2])], fill=True).add_to(m)\n",
    "# m"
   ]
  }
 ],
 "metadata": {
  "kernelspec": {
   "display_name": "Python 3",
   "language": "python",
   "name": "python3"
  },
  "language_info": {
   "codemirror_mode": {
    "name": "ipython",
    "version": 3
   },
   "file_extension": ".py",
   "mimetype": "text/x-python",
   "name": "python",
   "nbconvert_exporter": "python",
   "pygments_lexer": "ipython3",
   "version": "3.7.11"
  }
 },
 "nbformat": 4,
 "nbformat_minor": 4
}
